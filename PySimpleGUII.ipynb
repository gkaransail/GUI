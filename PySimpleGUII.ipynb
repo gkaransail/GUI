{
 "cells": [
  {
   "cell_type": "code",
   "execution_count": 1,
   "id": "88c9af1c-1fa8-46c8-ae04-d01434279b45",
   "metadata": {},
   "outputs": [
    {
     "name": "stdout",
     "output_type": "stream",
     "text": [
      "Collecting PySimpleGUI\n",
      "  Downloading PySimpleGUI-5.0.6-py3-none-any.whl.metadata (6.6 kB)\n",
      "Requirement already satisfied: rsa in c:\\users\\kgupta\\appdata\\local\\miniconda3\\lib\\site-packages (from PySimpleGUI) (4.9)\n",
      "Requirement already satisfied: pyasn1>=0.1.3 in c:\\users\\kgupta\\appdata\\local\\miniconda3\\lib\\site-packages (from rsa->PySimpleGUI) (0.6.0)\n",
      "Downloading PySimpleGUI-5.0.6-py3-none-any.whl (1.0 MB)\n",
      "   ---------------------------------------- 0.0/1.0 MB ? eta -:--:--\n",
      "   ---------------------------------------- 1.0/1.0 MB 24.4 MB/s eta 0:00:00\n",
      "Installing collected packages: PySimpleGUI\n",
      "Successfully installed PySimpleGUI-5.0.6\n",
      "Note: you may need to restart the kernel to use updated packages.\n"
     ]
    }
   ],
   "source": [
    "pip install PySimpleGUI"
   ]
  },
  {
   "cell_type": "code",
   "execution_count": null,
   "id": "a113c031-75da-4379-828f-5bdeff2817c9",
   "metadata": {},
   "outputs": [],
   "source": [
    "import PySimpleGUI as sg"
   ]
  },
  {
   "cell_type": "code",
   "execution_count": null,
   "id": "77c28637-fd18-489f-81ad-8af54b00ab59",
   "metadata": {},
   "outputs": [],
   "source": [
    "#Add some color to the window \n",
    "\n",
    "sg.theme('DarkTeal9')"
   ]
  },
  {
   "cell_type": "code",
   "execution_count": null,
   "id": "8e8b4d88-8371-4ac4-a8ae-ac14dc1bf5d0",
   "metadata": {},
   "outputs": [],
   "source": [
    "layout = [\n",
    "    [sg.Text('Please fill out the following fields:')],\n",
    "    [sg.Text('Name',size=(15,1)),sg.InputText(key='Name')],\n",
    "    [sg.Submit(),sg.Exit()]\n",
    "]"
   ]
  },
  {
   "cell_type": "code",
   "execution_count": null,
   "id": "f505f82d-b6ab-44ba-8191-35b0e4062ab4",
   "metadata": {},
   "outputs": [],
   "source": [
    "window = sg.Window('Simple data entry form', layout) "
   ]
  },
  {
   "cell_type": "code",
   "execution_count": null,
   "id": "7d9ace6f-4499-4541-9e57-dbe4d75a5987",
   "metadata": {},
   "outputs": [],
   "source": []
  }
 ],
 "metadata": {
  "kernelspec": {
   "display_name": "etl-env",
   "language": "python",
   "name": "etl-env"
  },
  "language_info": {
   "codemirror_mode": {
    "name": "ipython",
    "version": 3
   },
   "file_extension": ".py",
   "mimetype": "text/x-python",
   "name": "python",
   "nbconvert_exporter": "python",
   "pygments_lexer": "ipython3",
   "version": "3.11.5"
  }
 },
 "nbformat": 4,
 "nbformat_minor": 5
}
